{
 "cells": [
  {
   "cell_type": "code",
   "execution_count": 7,
   "metadata": {
    "collapsed": false
   },
   "outputs": [
    {
     "name": "stdout",
     "output_type": "stream",
     "text": [
      "1.4142135623730951\n"
     ]
    }
   ],
   "source": [
    "import math\n",
    "def sd_function(numbers):\n",
    "    'self-defined sd function'\n",
    "    N=len(numbers)\n",
    "    summation = 0\n",
    "    another_summation = 0\n",
    "    for number in numbers:\n",
    "        summation += number\n",
    "    mu = summation / N\n",
    "    for number in numbers:\n",
    "        another_summation += (number - mu)**2\n",
    "    return(math.sqrt(another_summation/N))     \n",
    "my_list = range(1,6)\n",
    "print(sd_function(my_list))"
   ]
  },
  {
   "cell_type": "code",
   "execution_count": 6,
   "metadata": {
    "collapsed": false
   },
   "outputs": [
    {
     "name": "stdout",
     "output_type": "stream",
     "text": [
      "Help on function sd_function in module __main__:\n",
      "\n",
      "sd_function(numbers)\n",
      "    self-define sd function\n",
      "\n"
     ]
    }
   ],
   "source": [
    "help(sd_function)"
   ]
  },
  {
   "cell_type": "code",
   "execution_count": null,
   "metadata": {
    "collapsed": true
   },
   "outputs": [],
   "source": []
  }
 ],
 "metadata": {
  "kernelspec": {
   "display_name": "Python 3",
   "language": "python",
   "name": "python3"
  },
  "language_info": {
   "codemirror_mode": {
    "name": "ipython",
    "version": 3
   },
   "file_extension": ".py",
   "mimetype": "text/x-python",
   "name": "python",
   "nbconvert_exporter": "python",
   "pygments_lexer": "ipython3",
   "version": "3.5.2"
  }
 },
 "nbformat": 4,
 "nbformat_minor": 1
}
